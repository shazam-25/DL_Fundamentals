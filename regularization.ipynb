{
  "nbformat": 4,
  "nbformat_minor": 0,
  "metadata": {
    "colab": {
      "provenance": [],
      "authorship_tag": "ABX9TyMvK+FqZ0XE2nBMTmZuqQSs",
      "include_colab_link": true
    },
    "kernelspec": {
      "name": "python3",
      "display_name": "Python 3"
    },
    "language_info": {
      "name": "python"
    }
  },
  "cells": [
    {
      "cell_type": "markdown",
      "metadata": {
        "id": "view-in-github",
        "colab_type": "text"
      },
      "source": [
        "<a href=\"https://colab.research.google.com/github/shazam-25/deep-learning-concepts/blob/main/regularization.ipynb\" target=\"_parent\"><img src=\"https://colab.research.google.com/assets/colab-badge.svg\" alt=\"Open In Colab\"/></a>"
      ]
    },
    {
      "cell_type": "code",
      "execution_count": 7,
      "metadata": {
        "colab": {
          "base_uri": "https://localhost:8080/"
        },
        "id": "7ze9ftEV_POw",
        "outputId": "6ec7f93b-f92f-41fc-a1bc-181df0e13cbe"
      },
      "outputs": [
        {
          "output_type": "stream",
          "name": "stdout",
          "text": [
            "Model(\n",
            "  (fc): Linear(in_features=10, out_features=1, bias=True)\n",
            "  (dropout): Dropout(p=0.5, inplace=False)\n",
            "  (bn): BatchNorm1d(10, eps=1e-05, momentum=0.1, affine=True, track_running_stats=True)\n",
            "  (ln): LayerNorm((10,), eps=1e-05, elementwise_affine=True)\n",
            ")\n"
          ]
        }
      ],
      "source": [
        "import torch\n",
        "import torch.nn as nn\n",
        "\n",
        "# Define a model with regularization\n",
        "class Model(nn.Module):\n",
        "  def __init__(self):\n",
        "    super().__init__()\n",
        "    self.fc = nn.Linear(10, 1)  # Fully connected layer\n",
        "    self.dropout = nn.Dropout(0.5)  # Dropout with 50% probability\n",
        "    self.bn = nn.BatchNorm1d(10)  # Batch normalization\n",
        "    self.ln = nn.LayerNorm(10)  # Layer normalization\n",
        "\n",
        "  def forward(self, x):\n",
        "    x = self.bn(x)  # Normalize across batch\n",
        "    x = self.ln(x)  # Normalize across features\n",
        "    x = self.dropout(x) # Apply dropout\n",
        "    return self.fc(x) # Output\n",
        "\n",
        "model = Model()\n",
        "optimizer = torch.optim.Adam(model.parameters(), weight_decay=0.01) # L2 penalty\n",
        "print(model)"
      ]
    }
  ]
}