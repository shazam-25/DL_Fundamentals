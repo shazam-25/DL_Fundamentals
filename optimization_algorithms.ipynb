{
  "nbformat": 4,
  "nbformat_minor": 0,
  "metadata": {
    "colab": {
      "provenance": [],
      "authorship_tag": "ABX9TyM1TUer+xV+Wxs2nfNgY4mM",
      "include_colab_link": true
    },
    "kernelspec": {
      "name": "python3",
      "display_name": "Python 3"
    },
    "language_info": {
      "name": "python"
    }
  },
  "cells": [
    {
      "cell_type": "markdown",
      "metadata": {
        "id": "view-in-github",
        "colab_type": "text"
      },
      "source": [
        "<a href=\"https://colab.research.google.com/github/shazam-25/deep-learning-concepts/blob/main/optimization_algorithms.ipynb\" target=\"_parent\"><img src=\"https://colab.research.google.com/assets/colab-badge.svg\" alt=\"Open In Colab\"/></a>"
      ]
    },
    {
      "cell_type": "code",
      "execution_count": 3,
      "metadata": {
        "colab": {
          "base_uri": "https://localhost:8080/"
        },
        "id": "_Wtl4csM3LQY",
        "outputId": "106474f0-ca2d-450b-ac86-fc39d6d8f3b3"
      },
      "outputs": [
        {
          "output_type": "stream",
          "name": "stdout",
          "text": [
            "Name: weight, Shape: torch.Size([1, 1])\n",
            "Name: bias, Shape: torch.Size([1])\n"
          ]
        },
        {
          "output_type": "stream",
          "name": "stderr",
          "text": [
            "/usr/local/lib/python3.12/dist-packages/torch/nn/modules/loss.py:616: UserWarning: Using a target size (torch.Size([1, 1])) that is different to the input size (torch.Size([1])). This will likely lead to incorrect results due to broadcasting. Please ensure they have the same size.\n",
            "  return F.mse_loss(input, target, reduction=self.reduction)\n"
          ]
        }
      ],
      "source": [
        "import torch\n",
        "import torch.optim as optim\n",
        "\n",
        "# define a simple linear model\n",
        "model = torch.nn.Linear(1,1)  # Input size 1, Output size 1\n",
        "criterion = torch.nn.MSELoss()  # Loss Function\n",
        "optimizer_sgd = optim.SGD(model.parameters(), lr=0.01, momentum=0.9) # SGD with momentum\n",
        "optimizer_adam = optim.Adam(model.parameters(), lr=0.01)  # Adam optimizer\n",
        "optimizer_adamw = optim.AdamW(model.parameters(), lr=0.01)  # AdamW with decoupled weigth decay\n",
        "optimizer_rmsprop = optim.RMSprop(model.parameters(), lr=0.01)  #RMSProp optimizer\n",
        "\n",
        "# Training step with warmup\n",
        "input = torch.tensor([1.0]) # Input tensor\n",
        "target = torch.tensor([[2.0]])  # Target tensor\n",
        "output = model(input) # Forward pass\n",
        "loss = criterion(output, target)  # Compute loss\n",
        "optimizer_adamw.zero_grad() # Clear gradients\n",
        "loss.backward() # Compute gradients\n",
        "optimizer_adamw.step()  # Update parameters\n",
        "\n",
        "# Print parameters\n",
        "for name, param in model.named_parameters():\n",
        "  print(f'Name: {name}, Shape: {param.shape}')"
      ]
    }
  ]
}