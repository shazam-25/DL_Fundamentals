{
  "nbformat": 4,
  "nbformat_minor": 0,
  "metadata": {
    "colab": {
      "provenance": [],
      "authorship_tag": "ABX9TyPJdYoM6mSho/BmGTMfQNMs",
      "include_colab_link": true
    },
    "kernelspec": {
      "name": "python3",
      "display_name": "Python 3"
    },
    "language_info": {
      "name": "python"
    }
  },
  "cells": [
    {
      "cell_type": "markdown",
      "metadata": {
        "id": "view-in-github",
        "colab_type": "text"
      },
      "source": [
        "<a href=\"https://colab.research.google.com/github/shazam-25/deep-learning-concepts/blob/main/modern_training_trick.ipynb\" target=\"_parent\"><img src=\"https://colab.research.google.com/assets/colab-badge.svg\" alt=\"Open In Colab\"/></a>"
      ]
    },
    {
      "cell_type": "code",
      "execution_count": 16,
      "metadata": {
        "colab": {
          "base_uri": "https://localhost:8080/"
        },
        "id": "rMzt5mem3NQr",
        "outputId": "cd965d41-8666-4291-a933-490128704506"
      },
      "outputs": [
        {
          "output_type": "stream",
          "name": "stdout",
          "text": [
            "Epoch 1, Adjust learning rate: 0.009755282581475769\n",
            "Epoch 2, Adjust learning rate: 0.009045084971874737\n",
            "Epoch 3, Adjust learning rate: 0.007938926261462366\n",
            "Epoch 4, Adjust learning rate: 0.006545084971874737\n",
            "Epoch 5, Adjust learning rate: 0.005\n",
            "Epoch 6, Adjust learning rate: 0.003454915028125263\n",
            "Epoch 7, Adjust learning rate: 0.0020610737385376348\n",
            "Epoch 8, Adjust learning rate: 0.0009549150281252633\n",
            "Epoch 9, Adjust learning rate: 0.00024471741852423234\n",
            "Epoch 10, Adjust learning rate: 0.01\n",
            "Output: tensor([[6.0109]], grad_fn=<AddmmBackward0>)\n",
            "\n",
            "Mixed precision setup successful (requires CUDA enabled device and input tensor).\n"
          ]
        }
      ],
      "source": [
        "import torch\n",
        "import torch.optim as optim\n",
        "from torch.optim.lr_scheduler import CosineAnnealingWarmRestarts\n",
        "\n",
        "# Initialize model and optimizer\n",
        "model = torch.nn.Linear(10, 1)  # Input size 10, Output size 1\n",
        "optimizer = optim.Adam(model.parameters(), lr=0.01) # Adam optimizer\n",
        "scheduler = CosineAnnealingWarmRestarts(optimizer, T_0=10, T_mult=2)  # Cosine annealing with warm restarts\n",
        "\n",
        "# Training loop\n",
        "for epoch in range(10):\n",
        "  # Train model...\n",
        "  # In a real training loop, you would update model parameters here\n",
        "  # For demonstration purposes, we'll just step the scheduler\n",
        "  scheduler.step() # Step the scheduler after each epoch\n",
        "  print(f'Epoch {epoch+1}, Adjust learning rate: {optimizer.param_groups[0][\"lr\"]}')\n",
        "\n",
        "# Input tensor\n",
        "input = torch.tensor([[1.0, 2.0, 4.0, 6.0, 8.0, 10.0, 12.0, 14.0, 16.0, 18.0]])\n",
        "\n",
        "# He initialization\n",
        "layer = torch.nn.Linear(10, 10) # Example layer\n",
        "torch.nn.init.kaiming_normal_(layer.weight, mode='fan_out', nonlinearity='relu')  # He init\n",
        "\n",
        "# Mixed precision training\n",
        "# You would typically use torch.cuda.amp.GradScaler() with a CUDA-enabled device\n",
        "# and within a training loop. This is a simplified example.\n",
        "try:\n",
        "    scaler = torch.amp.GradScaler()  # For mixed precision\n",
        "    # Assuming 'input' is a tensor and model is defined\n",
        "    with torch.amp.autocast('cuda'):\n",
        "      output = model(input)\n",
        "    print(f'Output: {output}')\n",
        "    print(\"\\nMixed precision setup successful (requires CUDA enabled device and input tensor).\")\n",
        "except Exception as e:\n",
        "    print(f\"\\nCould not initialize GradScaler. Mixed precision requires a CUDA-enabled device. Error: {e}\")"
      ]
    }
  ]
}