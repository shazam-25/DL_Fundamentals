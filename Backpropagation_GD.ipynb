{
  "nbformat": 4,
  "nbformat_minor": 0,
  "metadata": {
    "colab": {
      "provenance": [],
      "authorship_tag": "ABX9TyPiay+zJmGoW+g6ZWtblqdp",
      "include_colab_link": true
    },
    "kernelspec": {
      "name": "python3",
      "display_name": "Python 3"
    },
    "language_info": {
      "name": "python"
    }
  },
  "cells": [
    {
      "cell_type": "markdown",
      "metadata": {
        "id": "view-in-github",
        "colab_type": "text"
      },
      "source": [
        "<a href=\"https://colab.research.google.com/github/shazam-25/DL_Fundamentals/blob/main/Backpropagation_GD.ipynb\" target=\"_parent\"><img src=\"https://colab.research.google.com/assets/colab-badge.svg\" alt=\"Open In Colab\"/></a>"
      ]
    },
    {
      "cell_type": "code",
      "execution_count": 7,
      "metadata": {
        "colab": {
          "base_uri": "https://localhost:8080/"
        },
        "id": "aKAyKe1CmBuJ",
        "outputId": "4c9dbee4-2cf0-4d31-ac03-0590dc00b18b"
      },
      "outputs": [
        {
          "output_type": "stream",
          "name": "stdout",
          "text": [
            "Step 1: Initialization\n",
            "Input: [[0.1 0.2]], Target: [[1]], Weights: [[0.30592862 0.44713536]]\n",
            "Step 2: Forward Pass\n",
            "Weighted summation: [[0.12001993]], Activation Function: [[0.52996902]], Loss: [[0.11046456]]\n",
            "Step 3: Backward Pass\n",
            "dLoss/da=[[-0.47003098]], da/dz=[[0.24910186]], dLoss/dW=[[-0.01170856 -0.02341712]]\n",
            "\n",
            "Updated weights: [[0.30709947 0.44947707]]\n"
          ]
        }
      ],
      "source": [
        "import numpy as np\n",
        "\n",
        "# define sigmoid activation function\n",
        "def sigmoid(z):\n",
        "  return 1 / (1 + np.exp(-z)) # Maps input to [0,1]\n",
        "\n",
        "# Derivative of sigmoid for backpropagation\n",
        "def sigmoid_derivative(a):\n",
        "  return a * (1 - a)  # Gradient of sigmoid\n",
        "\n",
        "# Initialize input, target, and weights\n",
        "X = np.array([[0.1, 0.2]])  # Input vector X = [x1, x2]\n",
        "y = np.array([[1]]) # Target output\n",
        "W = np.random.rand(1, 2)  # Random initialization of weights\n",
        "learning_rate = 0.1 # Learning rate for gradient descent\n",
        "print('Step 1: Initialization')\n",
        "print(f'Input: {X}, Target: {y}, Weights: {W}')\n",
        "\n",
        "# Forward pass: compute prediction\n",
        "z = np.dot(X, W.T)  # Linear combinatin x.(w^T)\n",
        "a = sigmoid(z)  # Apply sigmoid activation\n",
        "loss = 0.5 * (y - a)**2 # Mean squared error loss\n",
        "print('Step 2: Forward Pass')\n",
        "print(f'Weighted summation: {z}, Activation Function: {a}, Loss: {loss}')\n",
        "\n",
        "# Backward pass: compute gradients using chain rule\n",
        "d_loss_da = -(y  - a) # Gradient of loss w.r.t activation\n",
        "da_dz = sigmoid_derivative(a) # Gradient of activation w.r.t z\n",
        "d_loss_dW = d_loss_da * da_dz * X # Gradient of loss w.r.t weights\n",
        "print('Step 3: Backward Pass')\n",
        "print(f'dLoss/da={d_loss_da}, da/dz={da_dz}, dLoss/dW={d_loss_dW}')\n",
        "\n",
        "# Gradient descent: update weights\n",
        "W -= learning_rate * d_loss_dW  # Update weights to minimize loss\n",
        "print(f'\\nUpdated weights: {W}')"
      ]
    }
  ]
}