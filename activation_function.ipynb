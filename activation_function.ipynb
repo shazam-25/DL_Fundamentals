{
  "nbformat": 4,
  "nbformat_minor": 0,
  "metadata": {
    "colab": {
      "provenance": [],
      "authorship_tag": "ABX9TyOT4vfHJv1Dpjf+TlXa4hxh",
      "include_colab_link": true
    },
    "kernelspec": {
      "name": "python3",
      "display_name": "Python 3"
    },
    "language_info": {
      "name": "python"
    }
  },
  "cells": [
    {
      "cell_type": "markdown",
      "metadata": {
        "id": "view-in-github",
        "colab_type": "text"
      },
      "source": [
        "<a href=\"https://colab.research.google.com/github/shazam-25/deep-learning-concepts/blob/main/activation_function.ipynb\" target=\"_parent\"><img src=\"https://colab.research.google.com/assets/colab-badge.svg\" alt=\"Open In Colab\"/></a>"
      ]
    },
    {
      "cell_type": "code",
      "execution_count": 11,
      "metadata": {
        "id": "m3WXmS5gqbNm",
        "colab": {
          "base_uri": "https://localhost:8080/"
        },
        "outputId": "f2604be2-2930-41ac-9c3f-1e43498449ae"
      },
      "outputs": [
        {
          "output_type": "stream",
          "name": "stdout",
          "text": [
            "ReLU: [0 0 1]\n",
            "PReLU: [-0.1  0.   1. ]\n",
            "GELU: [np.float64(-0.15865525393145707), np.float64(0.0), np.float64(0.8413447460685429)]\n"
          ]
        }
      ],
      "source": [
        "import numpy as np\n",
        "import math\n",
        "\n",
        "# ReLU activation function\n",
        "def relu(x):\n",
        "  return np.maximum(0, x) # Returns x if x > 0, else 0\n",
        "\n",
        "# Parametric ReLU (PReLU)\n",
        "def prelu(x, alpha=0.1):\n",
        "  return np.where(x > 0, x, alpha * x)  # Learnable slope for negative inputs\n",
        "\n",
        "# GELU activation function\n",
        "def gelu(x):\n",
        "  return x * 0.5 * (1 + math.erf(x / math.sqrt(2))) # Gaussian-smoothed ReLU\n",
        "\n",
        "# Example usage\n",
        "x = np.array([-1, 0, 1])  # Test inputs\n",
        "print(f'ReLU: {relu(x)}')\n",
        "print(f'PReLU: {prelu(x)}')\n",
        "print(f'GELU: {[gelu(xi) for xi in x]}')"
      ]
    }
  ]
}